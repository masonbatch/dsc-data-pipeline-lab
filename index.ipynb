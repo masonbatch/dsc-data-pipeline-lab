{
 "cells": [
  {
   "cell_type": "markdown",
   "metadata": {},
   "source": [
    "### Objectives\n",
    "- To create a mock pipeline based on the business model that students choose\n",
    "\n",
    "### Introduction\n",
    "\n",
    "Based on the previous readings, we will simulate how we can best determine\n",
    "- The state of the current system (legacy)\n",
    "- Whether we should migrate the system to cloud\n",
    "- (Optional) Designing the architecture of the cloud system\n"
   ]
  },
  {
   "cell_type": "markdown",
   "metadata": {},
   "source": [
    "### Problem Statement\n",
    "Suppose you're a decision maker in the engineering team at an eCommerce company which currently generates millions of dollars in net revenue. You have a legacy system that sits on company's data centers in remote locations, away from the headquarter where your office is. The engineering team and the data analytics team have made the decision that they would like to build a search engine, recommendation engine, and few other engines that require heavy machine learning models to increase the revenue for the company. As a decision maker, you need to assess the current system, and the engineering requirement for the future fiscal years. So you decide to answer some questions and prepare answers for the next leadership meeting.\n",
    "\n",
    "\n",
    "Currently, the capability of the data center is limited based on the square footage of the location, as well as the hardware that can be stored in the square footage. The data center resource is not only shared in the engineering team, but also within the supply chain team, logistics, HR's IT platform, and also with some other internal operations, like marketing, leadership, and also analytics team. The data centers have maxed out in terms of the hardware that they can support, and may be in need of expanding and opening up another data center."
   ]
  },
  {
   "cell_type": "markdown",
   "metadata": {},
   "source": [
    "#### Assumptions when solving this problem\n",
    "\n",
    "- The problem statement merely states the current business problem you're facing. The design of the hypothetical data center, like square footage, hardware capabilities, human resources are all something you can create! The limitation is one thing to keep in mind, that in any data center(s), you have ran out of spaces to add more hardware.\n",
    "- You can assume based on the revenue the company is making how much data is being generated per day.\n",
    "- Be creative! If you're using third party data, i.e. Adobe Target for audience targeting, how are we receiving that data? Will that data sit on our data center and will it take up the resources? These are free constraints that you can create, but be realistic."
   ]
  },
  {
   "cell_type": "markdown",
   "metadata": {},
   "source": [
    "1. What is the current cost of maintaining the remote data center location?"
   ]
  },
  {
   "cell_type": "markdown",
   "metadata": {},
   "source": [
    "### Solution 1:\n",
    "Current Costs: \n",
    "- Have a team of FTE's and a Manager in the data center\n",
    "- Hardware costs for the servers\n",
    "- Property costs for the DW\n",
    "- Electric and other Utilities for the facility\n",
    "- Maintenance of hardware\n",
    "- Security costs\n",
    "- Limited IT Service Support"
   ]
  },
  {
   "cell_type": "markdown",
   "metadata": {},
   "source": [
    "2. What are the new business requirements from your engineering team? "
   ]
  },
  {
   "cell_type": "markdown",
   "metadata": {},
   "source": [
    "### Solution 2: \n",
    "New Business requirements for the engineering team: \n",
    "- Generate millions of dollars in revenue so they gather a large volume of data points\n",
    "- Stronger processing power for data query operations\n",
    "- Low Latency accessibility\n",
    "- Large storage requirements for high volumes of data\n",
    "- High Availability of data centers and failover support\n",
    "- Dedicated servers for engineer team EDA and MLE"
   ]
  },
  {
   "cell_type": "markdown",
   "metadata": {},
   "source": [
    "3. Based on the new business requirements, you decide that you need to start migrating (at least) your resources to the cloud system. What are some things that you may need to look into when considering migrating your legacy system to cloud?"
   ]
  },
  {
   "cell_type": "markdown",
   "metadata": {},
   "source": [
    "### Solution 3:\n",
    "Things to consider:\n",
    "- Cost of decomissioning a DW\n",
    "- Database schema transition\n",
    "- Amount of storage / memory needed\n",
    "- Training costs for FTE\n",
    "- Labor effort to actually do the transition\n",
    "- Virtual Environments\n",
    "- What services to explore and use\n",
    "- Which cloud provider to go with (Azure, GCP, AWS)"
   ]
  },
  {
   "cell_type": "markdown",
   "metadata": {},
   "source": [
    "4. In the end, you'll need to pursuade leadership why you need to migrate a system to another place, i.e. cloud, when in the eyes of leadership, everything is working fine. Write out cons/pros based on the shared categories, like cost, human resources, etc."
   ]
  },
  {
   "cell_type": "markdown",
   "metadata": {},
   "source": [
    "### Solution 4:\n",
    "Pros: \n",
    "- Lower initial investment and CAPEX\n",
    "- Large cost savings on reserved instances\n",
    "- Flexibility in data storage\n",
    "- Ease of management post cloud transition\n",
    "- No longer need to expand the current data center\n",
    "- Benefit from economies of scale as cloud scales up prices reduce\n",
    "- Benefit of failover protections and high availability\n",
    "- high durabilitty of data within the cloud (low loss)\n",
    "- Expand globally in minutes\n",
    "\n",
    "Cons: \n",
    "- Costs to train FTE on a new system and develop cloud expertise\n",
    "- Application downtime or outages during transition\n",
    "- Lack of compatability with Legacy system\n",
    "- Data compliance policies\n",
    "- Data security\n",
    "- If it ain't broke don't fix it (leadership mindset)\n",
    "- Lack of a future vision (leadership mindset)"
   ]
  },
  {
   "cell_type": "markdown",
   "metadata": {},
   "source": [
    " (OPTIONAL) This may require an engineering/software background. You have the same hypothetical machine learning architecture, but one on the legacy system and one on the cloud. Moving away from the business logic, what is the benefit on the engineering stack if we use the cloud? What can be problematic if we use the cloud?"
   ]
  },
  {
   "cell_type": "markdown",
   "metadata": {},
   "source": [
    "### Solution (Optional):\n",
    "\n",
    "Tech stacks:\n",
    "- With the cloud utilize IaaS, PaaS, SaaS to more directly manage applications and focus on development of them without worrying about how servers are provisioned and the hardware involved which are all managed by the cloud service provider\n",
    "- Stack in the cloud benefit from higher scalability and availability\n",
    "- Compatibility and integration with various environments within the cloud\n",
    "- Faster time to adapt to changing technology\n",
    "- Problematic:\n",
    "    - Lack of resources/expertise\n",
    "    - Managing the cost of cloud spending (be mindful of setting budgets and alarms to decommission services)\n",
    "    - Compliance"
   ]
  },
  {
   "cell_type": "code",
   "execution_count": null,
   "metadata": {},
   "outputs": [],
   "source": []
  }
 ],
 "metadata": {
  "kernelspec": {
   "display_name": "Python 3",
   "language": "python",
   "name": "python3"
  },
  "language_info": {
   "codemirror_mode": {
    "name": "ipython",
    "version": 3
   },
   "file_extension": ".py",
   "mimetype": "text/x-python",
   "name": "python",
   "nbconvert_exporter": "python",
   "pygments_lexer": "ipython3",
   "version": "3.8.5"
  }
 },
 "nbformat": 4,
 "nbformat_minor": 5
}
